{
  "nbformat": 4,
  "nbformat_minor": 0,
  "metadata": {
    "colab": {
      "provenance": []
    },
    "kernelspec": {
      "name": "python3",
      "display_name": "Python 3"
    },
    "language_info": {
      "name": "python"
    }
  },
  "cells": [
    {
      "cell_type": "markdown",
      "source": [
        "Create a text file named \"original_data.txt\" with the following content:\n",
        "\n",
        "Name: Preeti Rana\n",
        "Account Number: 1234567890\n"
      ],
      "metadata": {
        "id": "41yQKbtH5US1"
      }
    },
    {
      "cell_type": "markdown",
      "source": [
        "Use the following code to replace and restore data in the text file:"
      ],
      "metadata": {
        "id": "TiLboSZo5f5C"
      }
    },
    {
      "cell_type": "markdown",
      "source": [
        "Pdf file can be converted to text file or vice versa..And took some data as mentioned"
      ],
      "metadata": {
        "id": "Mx0r_TMp7Utk"
      }
    },
    {
      "cell_type": "code",
      "source": [
        "import random\n",
        "\n",
        "# Read data from the file\n",
        "with open(\"original_data.txt\", \"r\") as file:\n",
        "    original_data = file.read()\n",
        "\n",
        "# Define a dictionary of replacement values\n",
        "replacement_dict = {\n",
        "    \"Name:\": [\"Preeti\", \"Neha\", \"Priya\"],\n",
        "    \"Account Number:\": [\"9876543210\", \"5555555555\", \"1111111111\"]\n",
        "}\n",
        "\n",
        "# Function to replace information with synthetic data\n",
        "def replace_with_synthetic(data, replacement_dict):\n",
        "    for key, values in replacement_dict.items():\n",
        "        replacement = random.choice(values)\n",
        "        data = data.replace(key, replacement, 1)  # Replace only the first occurrence\n",
        "    return data\n",
        "\n",
        "# Replace confidential information with synthetic data\n",
        "synthetic_data = replace_with_synthetic(original_data, replacement_dict)\n",
        "\n",
        "# Write the synthetic data to a new file\n",
        "with open(\"synthetic_data.txt\", \"w\") as file:\n",
        "    file.write(synthetic_data)\n",
        "\n",
        "# Function to restore synthetic data back to original data\n",
        "def restore_to_original(synthetic_data, replacement_dict):\n",
        "    original_data = synthetic_data\n",
        "    for key, values in replacement_dict.items():\n",
        "        for value in values:\n",
        "            original_data = original_data.replace(value, key, 1)  # Replace only the first occurrence\n",
        "    return original_data\n",
        "\n",
        "# Restore synthetic data back to original data\n",
        "restored_data = restore_to_original(synthetic_data, replacement_dict)\n",
        "\n",
        "# Print the restored data\n",
        "print(\"Restored Data:\")\n",
        "print(restored_data)\n"
      ],
      "metadata": {
        "id": "dfvNt6tn5caE"
      },
      "execution_count": null,
      "outputs": []
    },
    {
      "cell_type": "markdown",
      "source": [
        "Please replace \"original_data.txt\" with your actual file path and customize the replacement_dict with appropriate values."
      ],
      "metadata": {
        "id": "wu0zuQc35tm6"
      }
    }
  ]
}